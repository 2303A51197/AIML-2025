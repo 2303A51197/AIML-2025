{
  "nbformat": 4,
  "nbformat_minor": 0,
  "metadata": {
    "colab": {
      "provenance": [],
      "authorship_tag": "ABX9TyMj1WQgghT5k1UIKRX2XBN6",
      "include_colab_link": true
    },
    "kernelspec": {
      "name": "python3",
      "display_name": "Python 3"
    },
    "language_info": {
      "name": "python"
    }
  },
  "cells": [
    {
      "cell_type": "markdown",
      "metadata": {
        "id": "view-in-github",
        "colab_type": "text"
      },
      "source": [
        "<a href=\"https://colab.research.google.com/github/2303A51197/AIML-2025/blob/main/2303A51925_16_23.ipynb\" target=\"_parent\"><img src=\"https://colab.research.google.com/assets/colab-badge.svg\" alt=\"Open In Colab\"/></a>"
      ]
    },
    {
      "cell_type": "code",
      "source": [
        "import pandas as pd\n",
        "\n",
        "# Load the dataset\n",
        "file_path = 'tripadvisor_review.csv'  # Replace with the correct path to your file\n",
        "data = pd.read_csv(file_path)\n",
        "\n",
        "# Inspect the data structure\n",
        "print(data.head())\n",
        "print(data.info())"
      ],
      "metadata": {
        "colab": {
          "base_uri": "https://localhost:8080/"
        },
        "id": "7_zA8A10BpOP",
        "outputId": "c53e56e0-4d4f-43fd-9e42-59bbceb19f3c"
      },
      "execution_count": 5,
      "outputs": [
        {
          "output_type": "stream",
          "name": "stdout",
          "text": [
            "  User ID  Category 1  Category 2  Category 3  Category 4  Category 5  \\\n",
            "0  User 1        0.93         1.8        2.29        0.62        0.80   \n",
            "1  User 2        1.02         2.2        2.66        0.64        1.42   \n",
            "2  User 3        1.22         0.8        0.54        0.53        0.24   \n",
            "3  User 4        0.45         1.8        0.29        0.57        0.46   \n",
            "4  User 5        0.51         1.2        1.18        0.57        1.54   \n",
            "\n",
            "   Category 6  Category 7  Category 8  Category 9  Category 10  \n",
            "0        2.42        3.19        2.79        1.82         2.42  \n",
            "1        3.18        3.21        2.63        1.86         2.32  \n",
            "2        1.54        3.18        2.80        1.31         2.50  \n",
            "3        1.52        3.18        2.96        1.57         2.86  \n",
            "4        2.02        3.18        2.78        1.18         2.54  \n",
            "<class 'pandas.core.frame.DataFrame'>\n",
            "RangeIndex: 980 entries, 0 to 979\n",
            "Data columns (total 11 columns):\n",
            " #   Column       Non-Null Count  Dtype  \n",
            "---  ------       --------------  -----  \n",
            " 0   User ID      980 non-null    object \n",
            " 1   Category 1   980 non-null    float64\n",
            " 2   Category 2   980 non-null    float64\n",
            " 3   Category 3   980 non-null    float64\n",
            " 4   Category 4   980 non-null    float64\n",
            " 5   Category 5   980 non-null    float64\n",
            " 6   Category 6   980 non-null    float64\n",
            " 7   Category 7   980 non-null    float64\n",
            " 8   Category 8   980 non-null    float64\n",
            " 9   Category 9   980 non-null    float64\n",
            " 10  Category 10  980 non-null    float64\n",
            "dtypes: float64(10), object(1)\n",
            "memory usage: 84.3+ KB\n",
            "None\n"
          ]
        }
      ]
    },
    {
      "cell_type": "code",
      "source": [
        "# Sum scores across all rows for each category\n",
        "top_destinations = data.iloc[:, 1:].sum().sort_values(ascending=False).head(5)\n",
        "print(\"Top 5 Travel Destinations:\")\n",
        "print(top_destinations)"
      ],
      "metadata": {
        "colab": {
          "base_uri": "https://localhost:8080/"
        },
        "id": "ivkqj_l-Bsh8",
        "outputId": "820f97ed-186a-400d-ea82-f8fdeeff3ad3"
      },
      "execution_count": 6,
      "outputs": [
        {
          "output_type": "stream",
          "name": "stdout",
          "text": [
            "Top 5 Travel Destinations:\n",
            "Category 7     3117.32\n",
            "Category 8     2778.36\n",
            "Category 10    2743.24\n",
            "Category 6     1806.04\n",
            "Category 9     1538.05\n",
            "dtype: float64\n"
          ]
        }
      ]
    },
    {
      "cell_type": "code",
      "source": [
        "# Calculate the mean for each category and identify the one with the highest average\n",
        "most_liked_category = data.iloc[:, 1:].mean().idxmax()\n",
        "print(f\"The most liked category by travelers: {most_liked_category}\")"
      ],
      "metadata": {
        "colab": {
          "base_uri": "https://localhost:8080/"
        },
        "id": "SFTK0SXSCgvm",
        "outputId": "c6f1a029-291d-47f2-bb43-2758f1c97acb"
      },
      "execution_count": 8,
      "outputs": [
        {
          "output_type": "stream",
          "name": "stdout",
          "text": [
            "The most liked category by travelers: Category 7\n"
          ]
        }
      ]
    },
    {
      "cell_type": "code",
      "source": [
        "# Find max and min scores in the most liked category\n",
        "max_likes = data[most_liked_category].max()\n",
        "min_likes = data[most_liked_category].min()\n",
        "print(f\"Maximum score in {most_liked_category}: {max_likes}\")\n",
        "print(f\"Minimum score in {most_liked_category}: {min_likes}\")"
      ],
      "metadata": {
        "colab": {
          "base_uri": "https://localhost:8080/"
        },
        "id": "HwC2IUdKDISE",
        "outputId": "3d4d2f27-2fb3-438e-aafc-9146600d1414"
      },
      "execution_count": 9,
      "outputs": [
        {
          "output_type": "stream",
          "name": "stdout",
          "text": [
            "Maximum score in Category 7: 3.21\n",
            "Minimum score in Category 7: 3.16\n"
          ]
        }
      ]
    },
    {
      "cell_type": "code",
      "source": [
        "# Count travelers who gave their highest score to Category 4\n",
        "religious_count = (data['Category 4'] == data.iloc[:, 1:].max(axis=1)).sum()\n",
        "print(f\"Count of travelers who liked religious institutions the most: {religious_count}\")"
      ],
      "metadata": {
        "colab": {
          "base_uri": "https://localhost:8080/"
        },
        "id": "kzrSAPA3DK2f",
        "outputId": "d941ddb1-00ca-4c9e-9923-3ec73d46cb7f"
      },
      "execution_count": 10,
      "outputs": [
        {
          "output_type": "stream",
          "name": "stdout",
          "text": [
            "Count of travelers who liked religious institutions the most: 1\n"
          ]
        }
      ]
    },
    {
      "cell_type": "code",
      "source": [
        "# Find travelers who gave their highest score to either Category 1 or Category 2\n",
        "beaches_and_picnic = data[(data['Category 1'] == data.iloc[:, 1:].max(axis=1)) |\n",
        "                          (data['Category 2'] == data.iloc[:, 1:].max(axis=1))]\n",
        "\n",
        "# Display the User IDs of these travelers\n",
        "print(\"Travelers who like beaches and picnic spots the most:\")\n",
        "print(beaches_and_picnic[['User ID']])"
      ],
      "metadata": {
        "colab": {
          "base_uri": "https://localhost:8080/"
        },
        "id": "-yJWeZ4rDgR2",
        "outputId": "6d352b73-ac9e-4293-d4b6-6042bb0741f5"
      },
      "execution_count": 11,
      "outputs": [
        {
          "output_type": "stream",
          "name": "stdout",
          "text": [
            "Travelers who like beaches and picnic spots the most:\n",
            "      User ID\n",
            "322  User 323\n",
            "812  User 813\n"
          ]
        }
      ]
    }
  ]
}